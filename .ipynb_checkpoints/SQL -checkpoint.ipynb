{
 "cells": [
  {
   "cell_type": "code",
   "execution_count": 2,
   "metadata": {},
   "outputs": [],
   "source": [
    "import sqlite3 as sql"
   ]
  },
  {
   "cell_type": "code",
   "execution_count": 3,
   "metadata": {},
   "outputs": [
    {
     "data": {
      "text/plain": [
       "<sqlite3.Connection at 0x266b21b0a80>"
      ]
     },
     "execution_count": 3,
     "metadata": {},
     "output_type": "execute_result"
    }
   ],
   "source": [
    "conn = sql.connect('Graduation.db')\n",
    "conn"
   ]
  },
  {
   "cell_type": "markdown",
   "metadata": {},
   "source": [
    "# countries that have highest number of suiciders ?"
   ]
  },
  {
   "cell_type": "code",
   "execution_count": 6,
   "metadata": {},
   "outputs": [
    {
     "name": "stdout",
     "output_type": "stream",
     "text": [
      "[('Russian Federation', 1171821), ('United States', 882286), ('Japan', 690809), ('Germany', 291262), ('Ukraine', 289262), ('France', 268622), ('Korea', 245310), ('Brazil', 204513), ('Poland', 139098), ('United Kingdom', 112935)]\n"
     ]
    }
   ],
   "source": [
    "sql = \"SELECT country , sum(suicides_no) as nofsu From master1 GROUP By country ORDER By nofsu DESC LIMIT ?\"\n",
    "data = [10]\n",
    "rows = conn.execute(sql,data).fetchall()\n",
    "print(rows)"
   ]
  },
  {
   "cell_type": "markdown",
   "metadata": {},
   "source": [
    "# years that have highest number of suiciders ?"
   ]
  },
  {
   "cell_type": "code",
   "execution_count": 7,
   "metadata": {},
   "outputs": [
    {
     "name": "stdout",
     "output_type": "stream",
     "text": [
      "[(2002, 255362), (2003, 255360), (2000, 255079), (1999, 253324), (2001, 249840)]\n"
     ]
    }
   ],
   "source": [
    "sql = \"SELECT year , sum( suicides_no ) nofsu FROM master1 GROUP By year ORDER By nofsu DESC  LIMIT ?\"\n",
    "data = [5]\n",
    "rows = conn.execute(sql,data).fetchall()\n",
    "print(rows)"
   ]
  },
  {
   "cell_type": "markdown",
   "metadata": {},
   "source": [
    "# countries that have highest number of male suiciders?"
   ]
  },
  {
   "cell_type": "code",
   "execution_count": 8,
   "metadata": {},
   "outputs": [
    {
     "name": "stdout",
     "output_type": "stream",
     "text": [
      "[('Russian Federation', 'male', 966039), ('United States', 'male', 700451), ('Japan', 'male', 481502), ('Ukraine', 'male', 235577), ('Germany', 'male', 211555), ('France', 'male', 196774), ('Korea', 'male', 167214), ('Brazil', 'male', 161091), ('Poland', 'male', 118035), ('United Kingdom', 'male', 87198)]\n"
     ]
    }
   ],
   "source": [
    "sql = \"SELECT country,sex,sum(suicides_no) as nofsu FROM master1 WHERE sex = ? GROUP By country , sex ORDER By nofsu DESC LIMIT ?\"\n",
    "data = ['male' , 10]\n",
    "rows = conn.execute(sql,data).fetchall()\n",
    "print(rows)"
   ]
  },
  {
   "cell_type": "markdown",
   "metadata": {},
   "source": [
    "# countries that have highest number of female suiciders?"
   ]
  },
  {
   "cell_type": "code",
   "execution_count": 9,
   "metadata": {},
   "outputs": [
    {
     "name": "stdout",
     "output_type": "stream",
     "text": [
      "[('Japan', 'female', 209307), ('Russian Federation', 'female', 205782), ('United States', 'female', 181835), ('Germany', 'female', 79707), ('Korea', 'female', 78096), ('France', 'female', 71848), ('Ukraine', 'female', 53685), ('Brazil', 'female', 43422), ('Italy', 'female', 26338), ('United Kingdom', 'female', 25737)]\n"
     ]
    }
   ],
   "source": [
    "sql = \"SELECT country,sex,sum(suicides_no) as nofsu FROM master1 WHERE sex = ? GROUP By country , sex ORDER By nofsu DESC LIMIT ?\"\n",
    "data = ['female' , 10]\n",
    "rows = conn.execute(sql,data).fetchall()\n",
    "print(rows)"
   ]
  },
  {
   "cell_type": "markdown",
   "metadata": {},
   "source": [
    "# the order of age that have highest number of suiciders ?"
   ]
  },
  {
   "cell_type": "code",
   "execution_count": 10,
   "metadata": {},
   "outputs": [
    {
     "name": "stdout",
     "output_type": "stream",
     "text": [
      "[('35-54 years', 2229977), ('55-74 years', 1488338), ('25-34 years', 998572), ('15-24 years', 713933), ('75+ years', 580858), ('5-14 years', 46493)]\n"
     ]
    }
   ],
   "source": [
    "sql = \"SELECT age , sum(suicides_no) as nofsu FROM master1 GROUP By age ORDER BY nofsu DESC\"\n",
    "data = []\n",
    "rows = conn.execute(sql,data).fetchall()\n",
    "print(rows)"
   ]
  },
  {
   "cell_type": "markdown",
   "metadata": {},
   "source": [
    "# Countries that have above 15 which means largest degree of suicide rate ?"
   ]
  },
  {
   "cell_type": "code",
   "execution_count": 13,
   "metadata": {},
   "outputs": [
    {
     "name": "stdout",
     "output_type": "stream",
     "text": [
      "[('Lithuania', 40.41557251908396), ('Russian Federation', 34.956121794871805), ('Sri Lanka', 33.059629629629626), ('Hungary', 32.76151612903224), ('Belarus', 32.16765624999999), ('Kazakhstan', 30.511282051282034), ('Latvia', 29.259325396825414), ('Suriname', 28.26560606060605), ('Korea', 27.872660256410253), ('Slovenia', 27.82785714285713), ('Estonia', 27.276904761904763), ('Ukraine', 26.78193333333334), ('Guyana', 23.112753623188397), ('Croatia', 22.83526717557252), ('Austria', 22.2570807453416), ('Serbia', 22.164120370370373), ('Finland', 21.953076923076917), ('Cuba', 21.222048611111124), ('Japan', 21.018525641025633), ('Uruguay', 20.51641304347825), ('France', 20.487666666666676), ('Belgium', 20.376153846153848), ('Montenegro', 19.900499999999997), ('Switzerland', 19.02408730158731), ('Czechia', 18.487546583850907), ('Bulgaria', 18.481333333333353), ('Mongolia', 18.439), ('Luxembourg', 16.057884615384598), ('Germany', 15.559903846153842), ('Poland', 15.269513888888895)]\n"
     ]
    }
   ],
   "source": [
    "sql = \"SELECT m1.country , avg(m2.suiciderate) as SR FROM master1 as m1 JOIN master2 as m2 On m1.ID = m2.master1_id GROUP By m1.country HAVING SR > ? ORDER By SR DESC\"\n",
    "data = [15]\n",
    "rows = conn.execute(sql,data).fetchall()\n",
    "print(rows)"
   ]
  },
  {
   "cell_type": "markdown",
   "metadata": {},
   "source": [
    "# Countries that have underneath 5 which means smallest degree of suicide rate ?"
   ]
  },
  {
   "cell_type": "code",
   "execution_count": 14,
   "metadata": {},
   "outputs": [
    {
     "name": "stdout",
     "output_type": "stream",
     "text": [
      "[('Mexico', 4.921057692307691), ('Bosnia and Herzegovina', 4.617083333333333), ('Paraguay', 4.4502173913043475), ('Georgia', 3.988141025641027), ('Greece', 3.894326923076925), ('Albania', 3.6274122807017544), ('Cyprus', 3.2935955056179766), ('Armenia', 3.275872483221477), ('Guatemala', 3.0880448717948705), ('Barbados', 2.634375), ('Turkmenistan', 2.609722222222221), ('Philippines', 2.421277777777778), ('Turkey', 2.371071428571429), ('Grenada', 1.9120224719101124), ('Bahrain', 1.8362962962962963), ('Qatar', 1.7873595505617967), ('Azerbaijan', 1.674696969696969), ('Maldives', 1.3673333333333335), ('United Arab Emirates', 1.3179166666666662), ('Bahamas', 1.3073809523809525), ('Kuwait', 1.2292424242424247), ('South Africa', 0.9645416666666666), ('Oman', 0.7361111111111112), ('Jamaica', 0.5892361111111111), ('Antigua and Barbuda', 0.21851851851851853), ('Kiribati', 0.0)]\n"
     ]
    }
   ],
   "source": [
    "sql = \"SELECT m1.country , avg(m2.suiciderate) as SR FROM master1 as m1 JOIN master2 as m2 On m1.ID = m2.master1_id GROUP By m1.country HAVING SR < ? ORDER By SR DESC\"\n",
    "data = [5]\n",
    "rows = conn.execute(sql,data).fetchall()\n",
    "print(rows)"
   ]
  },
  {
   "cell_type": "markdown",
   "metadata": {},
   "source": [
    "# years that have highest average of suicide rate ?"
   ]
  },
  {
   "cell_type": "code",
   "execution_count": 12,
   "metadata": {},
   "outputs": [
    {
     "name": "stdout",
     "output_type": "stream",
     "text": [
      "[(1995, 17.074419191919194), (1996, 16.647400497512447), (1997, 16.05381127450982), (1998, 16.000736714975854), (1999, 15.809166666666682), (1994, 15.203065476190485), (1992, 14.847610062893088), (1993, 14.619696969696975), (1991, 14.424871794871784), (2000, 14.395116033755285)]\n"
     ]
    }
   ],
   "source": [
    "sql = \"SELECT m1.year ,avg(m2.suiciderate) as SRM FROM master1 as m1 JOIN master2 as m2 ON m1.ID = m2.master1_id GROUP By m1.year  ORDER BY SRM DESC LIMIT ?\"\n",
    "data = [10]\n",
    "rows = conn.execute(sql,data).fetchall()\n",
    "print(rows)"
   ]
  },
  {
   "cell_type": "markdown",
   "metadata": {},
   "source": [
    "# countries that have highest GDP Per Capita ?"
   ]
  },
  {
   "cell_type": "code",
   "execution_count": 15,
   "metadata": {},
   "outputs": [
    {
     "name": "stdout",
     "output_type": "stream",
     "text": [
      "[('Luxembourg', 77593.61538461539), ('Qatar', 67756.44943820225), ('Switzerland', 62981.76190476191), ('Norway', 62451.0), ('Denmark', 49299.90909090909), ('Singapore', 43532.0), ('Sweden', 43166.91925465839), ('Iceland', 42661.98757763975), ('United States', 42603.42307692308), ('United Arab Emirates', 42162.0)]\n"
     ]
    }
   ],
   "source": [
    "sql = \"SELECT country , avg(gdp_per_capita) as gdpc FROM master1 as m1 JOIN master2 as m2 ON m1.ID = m2.master1_id GROUP By country ORDER By gdpc DESC LIMIT ?\" \n",
    "data = [10]\n",
    "rows = conn.execute(sql,data).fetchall()\n",
    "print(rows)"
   ]
  },
  {
   "cell_type": "markdown",
   "metadata": {},
   "source": [
    "# Generations That have Highest number of suiciders ?"
   ]
  },
  {
   "cell_type": "code",
   "execution_count": 16,
   "metadata": {},
   "outputs": [
    {
     "name": "stdout",
     "output_type": "stream",
     "text": [
      "[('Boomers', 2149917), ('Silent', 1566230), ('Generation X', 1429648), ('Millenials', 620896), ('G.I. Generation', 275623), ('Generation Z', 15857)]\n"
     ]
    }
   ],
   "source": [
    "sql = \"SELECT  m2.generation as G , sum(suicides_no) SSN FROM master1 as m1 JOIN master2 as m2 On m1.ID = m2.master1_id GROUP By G ORDER By SSN DESC\" \n",
    "data = []\n",
    "rows = conn.execute(sql,data).fetchall()\n",
    "print(rows)"
   ]
  },
  {
   "cell_type": "markdown",
   "metadata": {},
   "source": [
    "# Countries That have above normal average of the HDI ?"
   ]
  },
  {
   "cell_type": "code",
   "execution_count": 17,
   "metadata": {},
   "outputs": [
    {
     "name": "stdout",
     "output_type": "stream",
     "text": [
      "[('Norway', 0.9125384615384644), ('Switzerland', 0.9067142857142877), ('Australia', 0.9049999999999981), ('United States', 0.8939999999999998), ('Denmark', 0.8910909090909072), ('Sweden', 0.8888322981366453), ('Netherlands', 0.8886708074534146), ('Germany', 0.8795384615384609), ('Canada', 0.8786666666666657), ('New Zealand', 0.877625), ('Belgium', 0.8752692307692335), ('Iceland', 0.8721304347826079), ('United Kingdom', 0.8706153846153827), ('Japan', 0.8628461538461542), ('Finland', 0.8624615384615384), ('Ireland', 0.8618000000000002), ('Israel', 0.8606923076923084), ('Luxembourg', 0.8581923076923056), ('Austria', 0.8552857142857123), ('Slovenia', 0.8536190476190464), ('France', 0.8506399999999993), ('Cyprus', 0.8439438202247181), ('Italy', 0.8406538461538451), ('Qatar', 0.8360337078651675), ('Spain', 0.834615384615384), ('Korea', 0.8343461538461556), ('Singapore', 0.8335384615384623), ('Greece', 0.8226923076923083), ('Czechia', 0.8205900621118015), ('United Arab Emirates', 0.8205000000000006), ('Estonia', 0.8147619047619047), ('Bahrain', 0.8026111111111116), ('Malta', 0.8016923076923078), ('Lithuania', 0.7988931297709898), ('Poland', 0.7938333333333342), ('Bahamas', 0.7922142857142864), ('Oman', 0.7883333333333332), ('Portugal', 0.7882727272727281), ('Hungary', 0.786825806451614), ('Slovakia', 0.7856363636363657), ('Croatia', 0.7834274809160325), ('Kuwait', 0.7828636363636367), ('Argentina', 0.7816923076923101), ('Montenegro', 0.7795999999999988), ('Latvia', 0.7777619047619042), ('Antigua and Barbuda', 0.7732222222222227), ('Chile', 0.7729999999999999), ('Barbados', 0.7672500000000017), ('Turkey', 0.755142857142858), ('Panama', 0.7510999999999988), ('Uruguay', 0.7509565217391312), ('Serbia', 0.7471111111111091), ('Russian Federation', 0.7468461538461519), ('Romania', 0.7446832298136655), ('Grenada', 0.7445056179775272), ('Seychelles', 0.7425999999999993), ('Bulgaria', 0.7394799999999995), ('Georgia', 0.7329230769230778), ('Mongolia', 0.7290000000000001), ('Bosnia and Herzegovina', 0.7285000000000003), ('Belarus', 0.7265625000000013), ('Costa Rica', 0.7226799999999987), ('Kazakhstan', 0.7220769230769231), ('Trinidad and Tobago', 0.7217272727272706), ('Cuba', 0.7212083333333316), ('Ukraine', 0.7171599999999991), ('Mexico', 0.7141153846153829), ('Saint Lucia', 0.7115000000000008), ('Fiji', 0.7082727272727273), ('Saint Vincent and the Grenadines', 0.7076250000000003), ('Mauritius', 0.7041118012422342), ('Suriname', 0.7021818181818177), ('Jamaica', 0.7015000000000007)]\n"
     ]
    }
   ],
   "source": [
    "sql = \"SELECT m1.country as C , avg(m2.HDIforyear) as H FROM master1 as m1 JOIN master2 as m2 ON m1.ID = m2.master1_id GROUP BY C HAVING H > ? ORDER By H DESC\" \n",
    "data = [0.7]\n",
    "rows = conn.execute(sql,data).fetchall()\n",
    "print(rows)"
   ]
  },
  {
   "cell_type": "markdown",
   "metadata": {},
   "source": [
    "# Countries that have underneath the normal Average of HDI ?"
   ]
  },
  {
   "cell_type": "code",
   "execution_count": 18,
   "metadata": {},
   "outputs": [
    {
     "name": "stdout",
     "output_type": "stream",
     "text": [
      "[('Ecuador', 0.6915000000000012), ('Brazil', 0.6903846153846153), ('Sri Lanka', 0.6891111111111121), ('Armenia', 0.6858255033557052), ('Turkmenistan', 0.6796666666666672), ('Colombia', 0.674230769230769), ('Albania', 0.6739473684210529), ('Thailand', 0.672442953020134), ('Belize', 0.6667600000000025), ('Maldives', 0.6500000000000001), ('Paraguay', 0.6497826086956529), ('South Africa', 0.6413000000000005), ('Azerbaijan', 0.6398181818181828), ('Uzbekistan', 0.6396666666666665), ('Cabo Verde', 0.6390000000000001), ('Philippines', 0.6378666666666677), ('Nicaragua', 0.6296666666666667), ('Kyrgyzstan', 0.6281538461538462), ('El Salvador', 0.617499999999999), ('Guyana', 0.606999999999998), ('Guatemala', 0.5621153846153832), ('Kiribati', 0.5609999999999996)]\n"
     ]
    }
   ],
   "source": [
    "sql = \"SELECT m1.country as C , avg(m2.HDIforyear) as H FROM master1 as m1 JOIN master2 as m2 ON m1.ID = m2.master1_id GROUP BY C HAVING H < ? ORDER By H DESC\" \n",
    "data = [0.7]\n",
    "rows = conn.execute(sql,data).fetchall()\n",
    "print(rows)"
   ]
  }
 ],
 "metadata": {
  "kernelspec": {
   "display_name": "Python 3",
   "language": "python",
   "name": "python3"
  },
  "language_info": {
   "codemirror_mode": {
    "name": "ipython",
    "version": 3
   },
   "file_extension": ".py",
   "mimetype": "text/x-python",
   "name": "python",
   "nbconvert_exporter": "python",
   "pygments_lexer": "ipython3",
   "version": "3.8.5"
  }
 },
 "nbformat": 4,
 "nbformat_minor": 4
}

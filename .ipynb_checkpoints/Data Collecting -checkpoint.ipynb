{
 "cells": [
  {
   "cell_type": "markdown",
   "metadata": {},
   "source": [
    "# The DataSet"
   ]
  },
  {
   "cell_type": "markdown",
   "metadata": {},
   "source": [
    "- This the Link of the dataset from kaggle \n",
    "https://www.kaggle.com/datasets/russellyates88/suicide-rates-overview-1985-to-2016"
   ]
  },
  {
   "cell_type": "markdown",
   "metadata": {},
   "source": [
    "# Data Understanding "
   ]
  },
  {
   "attachments": {
    "images.jpg": {
     "image/jpeg": "[encoded data removed]"
    }
   },
   "cell_type": "markdown",
   "metadata": {},
   "source": [
    "![images.jpg](attachment:images.jpg)"
   ]
  },
  {
   "cell_type": "markdown",
   "metadata": {},
   "source": [
    "- This compiled dataset pulled from four other datasets linked by time and place, and was built to find signals correlated to increased suicide rates among different cohorts globally, across the socio-economic spectrum."
   ]
  },
  {
   "cell_type": "markdown",
   "metadata": {},
   "source": [
    "- The major Aim from this DataSet to achieve Suicide Prevention or decrease it as possible as."
   ]
  },
  {
   "cell_type": "markdown",
   "metadata": {},
   "source": [
    "# Columns\n",
    "\n",
    "- Country : There're alot of Countries not from one Continent especially.\n",
    "\n",
    "- Year : It begins from 1985 to 2016\n",
    "\n",
    "- Sex \n",
    "\n",
    "- Age : In This Dataset Age is Split into groups to serve the generations column\n",
    " \n",
    "\n",
    "- suicides_no\n",
    "\n",
    "- Population\n",
    "\n",
    "- suicides/100k pop : Number of suicide deaths in a year, divided by the population and multiplied by 100 000.  \n",
    "\n",
    "- country-year\n",
    "\n",
    "- HDI for year (Human Development Index): is an index that measures key dimensions of human development. The three key dimensions are:1\n",
    "\n",
    "                   – A long and healthy life.\n",
    "\n",
    "                   – Access to education.\n",
    "\n",
    "                   - And a decent standard of living.\n",
    "                   \n",
    "- gdp_for_year (Gross Domestic Product): is the total monetary or market value of all the finished goods and services produced within a country's borders in a specific time period.\n",
    "\n",
    "\n",
    "- gdp per capita : Gross Domestic Product (GDP) per capita shows a country's GDP divided by its total population.\n",
    "\n",
    "\n",
    "- generation : A group of individuals born and living contemporaneously and Every group in each Era has nickname"
   ]
  },
  {
   "cell_type": "markdown",
   "metadata": {},
   "source": [
    "# Questions "
   ]
  },
  {
   "cell_type": "markdown",
   "metadata": {},
   "source": [
    "1 - which countries have the biggest suicides_no?\n",
    "\n",
    "2- which year has the biggest suicide_no ?\n",
    "\n",
    "3- which gender is the most ?\n",
    "\n",
    "4- which country has the biggest and the smallest from male suiciders and vice versa for the female suiciders ?\n",
    "\n",
    "5- which period of age has the most numbers of suicide?\n",
    "\n",
    "6-Suicides_no over the given period between both the genders?\n",
    "\n",
    "7- effect of suicides/100k pop over the countres ,years and age?\n",
    "\n",
    "8- which country has the biggest GDP for year and GDP over years?\n",
    "\n",
    "9- which country has the biggest GDP per capita and over years ?\n",
    "\n",
    "10- which the most generation has number of suicide and suicides/100k pop and the opposite ?\n",
    "\n",
    "11- Studying Trends between Year and Population?\n",
    "\n",
    "12- Which country have the most HDI for year and what the effect of HDI for Year Over Years?\n",
    "\n",
    "13- Distribution of Danger Level?"
   ]
  }
 ],
 "metadata": {
  "kernelspec": {
   "display_name": "Python 3",
   "language": "python",
   "name": "python3"
  },
  "language_info": {
   "codemirror_mode": {
    "name": "ipython",
    "version": 3
   },
   "file_extension": ".py",
   "mimetype": "text/x-python",
   "name": "python",
   "nbconvert_exporter": "python",
   "pygments_lexer": "ipython3",
   "version": "3.8.5"
  }
 },
 "nbformat": 4,
 "nbformat_minor": 4
}

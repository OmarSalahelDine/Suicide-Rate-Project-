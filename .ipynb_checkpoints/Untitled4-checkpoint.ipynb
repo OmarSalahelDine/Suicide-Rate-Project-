{
 "cells": [
  {
   "cell_type": "code",
   "execution_count": null,
   "metadata": {},
   "outputs": [],
   "source": [
    "from flask import Flask, request, jsonify , render_template\n",
    "import pandas as pd\n",
    "import joblib\n",
    "\n",
    "app = Flask(__name__)\n",
    "\n",
    "danger = joblib.load('danger.joblib')\n",
    "\n",
    "@app.route('/', methods = ['GET'])\n",
    "def index():\n",
    "    \n",
    "    return render_template('Suicide.html')\n",
    "\n",
    "def predict_input(model, single_input):\n",
    "    input_df = pd.DataFrame([single_input])\n",
    "    input_df[model['numeric_cols']] = model['scaler'].transform(input_df[model['numeric_cols']])\n",
    "    input_df[model['encoded_cols']] = model['encoder'].transform(input_df[model['categorical_cols']]).toarray()\n",
    "    X_input = input_df[model['numeric_cols'] + model['encoded_cols']]\n",
    "    pred = model['model'].predict(X_input)[0]\n",
    "    prob = model['model'].predict_proba(X_input)[0][list(model['model'].classes_).index(pred)]\n",
    "    return pred, prob\n",
    "\n",
    "def new_input(req_data):\n",
    "    client = []\n",
    "    client.append(req_data['country'])\n",
    "    client.append(req_data['year'])\n",
    "    client.append(req_data['sex'])\n",
    "    client.append(req_data['age'])\n",
    "    client.append(req_data['suicides_no'])\n",
    "    client.append(req_data['suicides/100k pop'])\n",
    "    client.append(req_data['HDI for year'])\n",
    "    client.append(req_data['gdp_for_year'])\n",
    "    client.append(req_data['gdp_per_capita'])\n",
    "    client.append(req_data['generation'])\n",
    "    return client\n",
    "\n",
    "\n",
    "@app.route('/predict', methods=['POST'])\n",
    "def predict():\n",
    "    prediction = model.predict(X_df)\n",
    "\n",
    "\n",
    "\n",
    "\n",
    "\n",
    "\n",
    "\n",
    "\n",
    "if __name__ == '__main__':\n",
    "    \n",
    "    app.run(debug = True)"
   ]
  },
  {
   "cell_type": "code",
   "execution_count": null,
   "metadata": {},
   "outputs": [],
   "source": [
    "client.append(['country'])\n",
    "client.append(['year'])\n",
    "client.append(['sex'])\n",
    "client.append(['age'])\n",
    "client.append(['suicides_no'])\n",
    "client.append(['suicides/100k pop'])\n",
    "client.append(['HDI for year'])\n",
    "client.append(['gdp_for_year'])\n",
    "client.append(['gdp_per_capita'])\n",
    "client.append(['generation'])"
   ]
  }
 ],
 "metadata": {
  "kernelspec": {
   "display_name": "Python 3",
   "language": "python",
   "name": "python3"
  },
  "language_info": {
   "codemirror_mode": {
    "name": "ipython",
    "version": 3
   },
   "file_extension": ".py",
   "mimetype": "text/x-python",
   "name": "python",
   "nbconvert_exporter": "python",
   "pygments_lexer": "ipython3",
   "version": "3.8.5"
  }
 },
 "nbformat": 4,
 "nbformat_minor": 4
}
